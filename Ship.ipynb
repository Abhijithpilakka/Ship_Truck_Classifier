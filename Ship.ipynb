{
  "nbformat": 4,
  "nbformat_minor": 0,
  "metadata": {
    "colab": {
      "name": "Ship.ipynb",
      "provenance": [],
      "collapsed_sections": [],
      "mount_file_id": "11w7t5cj_ccYq5dnEJLNBH34NCpnSNsB0",
      "authorship_tag": "ABX9TyPvSzgqyxAIKtJoUGP/EN+p",
      "include_colab_link": true
    },
    "kernelspec": {
      "name": "python3",
      "display_name": "Python 3"
    },
    "language_info": {
      "name": "python"
    },
    "accelerator": "GPU"
  },
  "cells": [
    {
      "cell_type": "markdown",
      "metadata": {
        "id": "view-in-github",
        "colab_type": "text"
      },
      "source": [
        "<a href=\"https://colab.research.google.com/github/Abhijithpilakka/Ship_Truck_Classifier/blob/main/Ship.ipynb\" target=\"_parent\"><img src=\"https://colab.research.google.com/assets/colab-badge.svg\" alt=\"Open In Colab\"/></a>"
      ]
    },
    {
      "cell_type": "code",
      "metadata": {
        "id": "v4ku5seMfslc"
      },
      "source": [
        "import tensorflow as tf\n",
        "from tensorflow.keras import datasets, layers, models\n",
        "import matplotlib.pyplot as plt\n",
        "import numpy as np"
      ],
      "execution_count": null,
      "outputs": []
    },
    {
      "cell_type": "code",
      "metadata": {
        "colab": {
          "base_uri": "https://localhost:8080/"
        },
        "id": "bnHqExO52qOF",
        "outputId": "f70c73a1-ac8e-42dd-9097-9f28b6e23080"
      },
      "source": [
        "(X_train, y_train), (X_test,y_test) = datasets.cifar10.load_data()\n",
        "X_train.shape"
      ],
      "execution_count": null,
      "outputs": [
        {
          "output_type": "stream",
          "text": [
            "Downloading data from https://www.cs.toronto.edu/~kriz/cifar-10-python.tar.gz\n",
            "170500096/170498071 [==============================] - 4s 0us/step\n"
          ],
          "name": "stdout"
        },
        {
          "output_type": "execute_result",
          "data": {
            "text/plain": [
              "(50000, 32, 32, 3)"
            ]
          },
          "metadata": {
            "tags": []
          },
          "execution_count": 2
        }
      ]
    },
    {
      "cell_type": "code",
      "metadata": {
        "id": "Iu7NcPzd-HoG"
      },
      "source": [
        "y_train = y_train.reshape(-1,)\n",
        "y_test = y_test.reshape(-1,)"
      ],
      "execution_count": null,
      "outputs": []
    },
    {
      "cell_type": "code",
      "metadata": {
        "id": "olpbrNkB-huX"
      },
      "source": [
        "X_train, y_train = X_train[(y_train == 8) | (y_train == 9)] , y_train[(y_train == 8) | (y_train == 9)]\n",
        "X_test, y_test = X_test[(y_test == 8) | (y_test == 9)] , y_test[(y_test == 8) | (y_test == 9)]"
      ],
      "execution_count": null,
      "outputs": []
    },
    {
      "cell_type": "code",
      "metadata": {
        "colab": {
          "base_uri": "https://localhost:8080/"
        },
        "id": "RRAY_-jPM-Al",
        "outputId": "420e3c4c-49d1-46e5-c4b3-3403ef6cefae"
      },
      "source": [
        "y_train.shape"
      ],
      "execution_count": null,
      "outputs": [
        {
          "output_type": "execute_result",
          "data": {
            "text/plain": [
              "(10000,)"
            ]
          },
          "metadata": {
            "tags": []
          },
          "execution_count": 5
        }
      ]
    },
    {
      "cell_type": "code",
      "metadata": {
        "colab": {
          "base_uri": "https://localhost:8080/"
        },
        "id": "bHdYeC4xB4Sv",
        "outputId": "db49ca92-1b3e-42e3-ba44-a0c6f11c951e"
      },
      "source": [
        "X_train.shape"
      ],
      "execution_count": null,
      "outputs": [
        {
          "output_type": "execute_result",
          "data": {
            "text/plain": [
              "(10000, 32, 32, 3)"
            ]
          },
          "metadata": {
            "tags": []
          },
          "execution_count": 6
        }
      ]
    },
    {
      "cell_type": "code",
      "metadata": {
        "id": "0onl0LazPnQO"
      },
      "source": [
        "classes = [\"airplane\",\"automobile\",\"bird\",\"cat\",\"deer\",\"dog\",\"frog\",\"horse\",\"ship\",\"truck\"]"
      ],
      "execution_count": null,
      "outputs": []
    },
    {
      "cell_type": "code",
      "metadata": {
        "id": "5usge-OKWzro"
      },
      "source": [
        "def plot_sample(X, y, index):\n",
        "    plt.figure(figsize = (15,2))\n",
        "    plt.imshow(X[index])\n",
        "    plt.xlabel(classes[y[index]])"
      ],
      "execution_count": null,
      "outputs": []
    },
    {
      "cell_type": "code",
      "metadata": {
        "colab": {
          "base_uri": "https://localhost:8080/",
          "height": 173
        },
        "id": "NKPa4LmEW4be",
        "outputId": "563e9ee8-d233-4504-ff97-f1bd103b5f05"
      },
      "source": [
        "plot_sample(X_train, y_train, 273)"
      ],
      "execution_count": null,
      "outputs": [
        {
          "output_type": "display_data",
          "data": {
            "image/png": "[encoded data removed]",
            "text/plain": [
              "<Figure size 1080x144 with 1 Axes>"
            ]
          },
          "metadata": {
            "tags": [],
            "needs_background": "light"
          }
        }
      ]
    },
    {
      "cell_type": "markdown",
      "metadata": {
        "id": "jqvwaIHkissM"
      },
      "source": [
        "Normalizing the training data"
      ]
    },
    {
      "cell_type": "code",
      "metadata": {
        "id": "maARQ2fkXz0F"
      },
      "source": [
        "\n",
        "X_train = X_train / 255.0\n",
        "X_test = X_test / 255.0"
      ],
      "execution_count": null,
      "outputs": []
    },
    {
      "cell_type": "code",
      "metadata": {
        "id": "YxS7G_h9i6_O"
      },
      "source": [
        "# ann = models.Sequential([\n",
        "#        layers.Flatten(input_shape=(32,32,3)),\n",
        "#       layers.Dense(3000, activation='relu'),\n",
        "#        layers.Dense(1000, activation='relu'),\n",
        "#        layers.Dense(10, activation='softmax')    \n",
        "#    ])\n",
        "\n",
        "#ann.compile(optimizer='SGD',\n",
        " #             loss='sparse_categorical_crossentropy',\n",
        "  #            metrics=['accuracy'])\n",
        "\n",
        "# ann.fit(X_train, y_train, epochs=5) "
      ],
      "execution_count": null,
      "outputs": []
    },
    {
      "cell_type": "code",
      "metadata": {
        "id": "WwOleuOLjje6"
      },
      "source": [
        "#from sklearn.metrics import confusion_matrix , classification_report\n",
        "#import numpy as np\n",
        "#y_pred = ann.predict(X_test)\n",
        "#y_pred_classes = [np.argmax(element) for element in y_pred]\n",
        "\n",
        "#print(\"Classification Report: \\n\", classification_report(y_test, y_pred_classes))"
      ],
      "execution_count": null,
      "outputs": []
    },
    {
      "cell_type": "code",
      "metadata": {
        "id": "uHtbbKwPkyK3"
      },
      "source": [
        "cnn = models.Sequential([\n",
        "    layers.Conv2D(filters=32, kernel_size=(3, 3), activation='relu', input_shape=(32, 32, 3)),\n",
        "    layers.MaxPooling2D((2, 2)),\n",
        "    \n",
        "    layers.Conv2D(filters=64, kernel_size=(3, 3), activation='relu'),\n",
        "    layers.MaxPooling2D((2, 2)),\n",
        "    \n",
        "    layers.Flatten(),\n",
        "    layers.Dense(64, activation='relu'),\n",
        "    layers.Dense(10, activation='softmax')\n",
        "])"
      ],
      "execution_count": null,
      "outputs": []
    },
    {
      "cell_type": "code",
      "metadata": {
        "id": "CYcJkAwYk0F6"
      },
      "source": [
        "cnn.compile(optimizer='adam',\n",
        "              loss='sparse_categorical_crossentropy',\n",
        "              metrics=['accuracy'])"
      ],
      "execution_count": null,
      "outputs": []
    },
    {
      "cell_type": "code",
      "metadata": {
        "colab": {
          "base_uri": "https://localhost:8080/"
        },
        "id": "YDGEHroJk4ry",
        "outputId": "7bb1df23-f15c-4c57-b719-519570e1d52b"
      },
      "source": [
        "cnn.fit(X_train, y_train, epochs=10)"
      ],
      "execution_count": null,
      "outputs": [
        {
          "output_type": "stream",
          "text": [
            "Epoch 1/10\n",
            "313/313 [==============================] - 32s 3ms/step - loss: 0.4391 - accuracy: 0.8045\n",
            "Epoch 2/10\n",
            "313/313 [==============================] - 1s 3ms/step - loss: 0.3078 - accuracy: 0.8726\n",
            "Epoch 3/10\n",
            "313/313 [==============================] - 1s 3ms/step - loss: 0.2321 - accuracy: 0.9065\n",
            "Epoch 4/10\n",
            "313/313 [==============================] - 1s 3ms/step - loss: 0.1983 - accuracy: 0.9211\n",
            "Epoch 5/10\n",
            "313/313 [==============================] - 1s 3ms/step - loss: 0.1867 - accuracy: 0.9247\n",
            "Epoch 6/10\n",
            "313/313 [==============================] - 1s 3ms/step - loss: 0.1617 - accuracy: 0.9346\n",
            "Epoch 7/10\n",
            "313/313 [==============================] - 1s 3ms/step - loss: 0.1512 - accuracy: 0.9408\n",
            "Epoch 8/10\n",
            "313/313 [==============================] - 1s 3ms/step - loss: 0.1403 - accuracy: 0.9436\n",
            "Epoch 9/10\n",
            "313/313 [==============================] - 1s 3ms/step - loss: 0.1271 - accuracy: 0.9528\n",
            "Epoch 10/10\n",
            "313/313 [==============================] - 1s 3ms/step - loss: 0.1097 - accuracy: 0.9594\n"
          ],
          "name": "stdout"
        },
        {
          "output_type": "execute_result",
          "data": {
            "text/plain": [
              "<tensorflow.python.keras.callbacks.History at 0x7fe3e94d7510>"
            ]
          },
          "metadata": {
            "tags": []
          },
          "execution_count": 15
        }
      ]
    },
    {
      "cell_type": "code",
      "metadata": {
        "colab": {
          "base_uri": "https://localhost:8080/"
        },
        "id": "k4vvxLpQlja3",
        "outputId": "62dbd8a2-7b1f-47ac-e118-6f2aff00ccf0"
      },
      "source": [
        "cnn.evaluate(X_test,y_test)"
      ],
      "execution_count": null,
      "outputs": [
        {
          "output_type": "stream",
          "text": [
            "63/63 [==============================] - 0s 3ms/step - loss: 0.1798 - accuracy: 0.9345\n"
          ],
          "name": "stdout"
        },
        {
          "output_type": "execute_result",
          "data": {
            "text/plain": [
              "[0.17977380752563477, 0.934499979019165]"
            ]
          },
          "metadata": {
            "tags": []
          },
          "execution_count": 16
        }
      ]
    },
    {
      "cell_type": "code",
      "metadata": {
        "colab": {
          "base_uri": "https://localhost:8080/"
        },
        "id": "biAHGpeolttM",
        "outputId": "d75b3166-69da-408e-9da1-948f60288bf3"
      },
      "source": [
        "y_pred = cnn.predict(X_test)\n",
        "y_pred[:5]"
      ],
      "execution_count": null,
      "outputs": [
        {
          "output_type": "execute_result",
          "data": {
            "text/plain": [
              "array([[7.4662756e-09, 1.9851698e-09, 2.2317905e-09, 2.3600299e-09,\n",
              "        5.6115956e-10, 2.9123462e-10, 2.0786235e-09, 9.5565034e-10,\n",
              "        9.9486154e-01, 5.1384117e-03],\n",
              "       [1.5636870e-07, 5.0122782e-08, 7.7986527e-08, 7.5401090e-08,\n",
              "        2.1299073e-08, 1.0772702e-08, 8.4495980e-08, 2.7621256e-08,\n",
              "        9.8351109e-01, 1.6488453e-02],\n",
              "       [5.5489313e-10, 5.4841871e-11, 7.9473400e-10, 3.1849820e-10,\n",
              "        1.5827450e-11, 4.0407407e-11, 3.6355538e-10, 3.0275310e-10,\n",
              "        4.6443408e-03, 9.9535573e-01],\n",
              "       [4.5679707e-11, 3.2234213e-12, 7.0846121e-11, 3.1964476e-11,\n",
              "        9.3794568e-13, 2.3585799e-12, 3.5309852e-11, 2.5911259e-11,\n",
              "        1.8073373e-03, 9.9819273e-01],\n",
              "       [1.5116643e-07, 3.9404078e-08, 6.1397664e-08, 5.1362818e-08,\n",
              "        2.5577421e-08, 9.9180149e-09, 5.9513312e-08, 2.1066477e-08,\n",
              "        9.9013841e-01, 9.8611210e-03]], dtype=float32)"
            ]
          },
          "metadata": {
            "tags": []
          },
          "execution_count": 17
        }
      ]
    },
    {
      "cell_type": "code",
      "metadata": {
        "colab": {
          "base_uri": "https://localhost:8080/"
        },
        "id": "LujaREn9lv_a",
        "outputId": "0e0e746f-a4bb-4f3d-c2c4-38195fa840fa"
      },
      "source": [
        "y_classes = [np.argmax(element) for element in y_pred]\n",
        "y_classes[:5]"
      ],
      "execution_count": null,
      "outputs": [
        {
          "output_type": "execute_result",
          "data": {
            "text/plain": [
              "[8, 8, 9, 9, 8]"
            ]
          },
          "metadata": {
            "tags": []
          },
          "execution_count": 18
        }
      ]
    },
    {
      "cell_type": "markdown",
      "metadata": {
        "id": "R-L9nkcS9-nj"
      },
      "source": [
        "save the model"
      ]
    },
    {
      "cell_type": "code",
      "metadata": {
        "id": "fQ6Y37nH-Aqq"
      },
      "source": [
        "cnn.save(\"Cifar_ship_truck.h5\")"
      ],
      "execution_count": null,
      "outputs": []
    }
  ]
}